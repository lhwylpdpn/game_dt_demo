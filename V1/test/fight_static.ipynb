{
 "cells": [
  {
   "cell_type": "code",
   "execution_count": 1,
   "metadata": {
    "collapsed": true,
    "pycharm": {
     "name": "#%%\n"
    }
   },
   "outputs": [],
   "source": [
    "#解析生成json的内容\n",
    "#解析决策过程的日志\n",
    "import os\n",
    "import json\n",
    "import pandas as pd\n",
    "\n",
    "pd.set_option('display.max_rows', None)\n",
    "pd.set_option('display.max_columns', None)\n",
    "pd.set_option('display.width', None)\n",
    "pd.set_option('display.max_colwidth', None)\n",
    "\n",
    "def parse_decision_log(log_path):\n",
    "    pass\n",
    "def paese_result_json(log_path):\n",
    "    #读取json文件\n",
    "    res=json.load(open(log_path,\"r\"))['update']\n",
    "    #去除掉init_state部分\n",
    "    static={}\n",
    "\n",
    "    for r in res:\n",
    "        actions,states,tick=r['action'],r['state'],r['tick']\n",
    "        for action in actions:\n",
    "            if str(action['class']) + '_' + str(action['id']) not in static:\n",
    "                static[str(action['class']) + '_' + str(action['id'])]={}\n",
    "            static[str(action['class']) + '_' + str(action['id'])][action['action_type']]=static[str(action['class']) + '_' + str(action['id'])][action['action_type']]+1 if action['action_type'] in static[str(action['class']) + '_' + str(action['id'])] else 1\n",
    "            if 'damage' not in static[str(action['class']) + '_' + str(action['id'])]:\n",
    "                static[str(action['class']) + '_' + str(action['id'])]['damage']=[]\n",
    "            if 'damage' in action:\n",
    "                for damage in action['damage']:\n",
    "                    static[str(action['class']) + '_' + str(action['id'])]['damage'].append(damage[1][0])\n",
    "    for k in static.keys():\n",
    "        static[k]['总伤害']=sum(static[k]['damage'])\n",
    "        static[k]['总伤害次数']=len(static[k]['damage'])\n",
    "        static[k]['平均伤害']=sum(static[k]['damage'])/len(static[k]['damage']) if len(static[k]['damage'])>0 else 0\n",
    "        if 'RIGHT' not in static[k]:\n",
    "            static[k]['RIGHT']=0\n",
    "        if 'LEFT' not in static[k]:\n",
    "            static[k]['LEFT']=0\n",
    "        if 'TOP' not in static[k]:\n",
    "            static[k]['TOP']=0\n",
    "        if 'BOTTOM' not in static[k]:\n",
    "            static[k]['BOTTOM']=0\n",
    "        static[k]['总移动次数']=static[k]['RIGHT']+static[k]['LEFT']+static[k]['TOP']+static[k]['BOTTOM']\n",
    "\n",
    "\n",
    "        #隐藏具体伤害\n",
    "        static[k].pop('damage')\n",
    "        #按照key 排序\n",
    "        static[k]=dict(sorted(static[k].items(),key=lambda x:x[0]))\n",
    "    return static\n"
   ]
  },
  {
   "cell_type": "code",
   "execution_count": 8,
   "outputs": [
    {
     "name": "stdout",
     "output_type": "stream",
     "text": [
      "for_qiangye_skill_95.json\n"
     ]
    },
    {
     "data": {
      "text/plain": "                  BOTTOM  LEFT  RIGHT  SKILL_86  TOP  WAIT        平均伤害  \\\nmonster_18714666     1.0   3.0    3.0       6.0  6.0   7.0  120.946667   \nhero_5002            6.0   1.0   15.0       NaN  6.0   2.0    0.000000   \n\n                     总伤害  总伤害次数  总移动次数  \nmonster_18714666  725.68    6.0   13.0  \nhero_5002           0.00    0.0   28.0  ",
      "text/html": "<div>\n<style scoped>\n    .dataframe tbody tr th:only-of-type {\n        vertical-align: middle;\n    }\n\n    .dataframe tbody tr th {\n        vertical-align: top;\n    }\n\n    .dataframe thead th {\n        text-align: right;\n    }\n</style>\n<table border=\"1\" class=\"dataframe\">\n  <thead>\n    <tr style=\"text-align: right;\">\n      <th></th>\n      <th>BOTTOM</th>\n      <th>LEFT</th>\n      <th>RIGHT</th>\n      <th>SKILL_86</th>\n      <th>TOP</th>\n      <th>WAIT</th>\n      <th>平均伤害</th>\n      <th>总伤害</th>\n      <th>总伤害次数</th>\n      <th>总移动次数</th>\n    </tr>\n  </thead>\n  <tbody>\n    <tr>\n      <th>monster_18714666</th>\n      <td>1.0</td>\n      <td>3.0</td>\n      <td>3.0</td>\n      <td>6.0</td>\n      <td>6.0</td>\n      <td>7.0</td>\n      <td>120.946667</td>\n      <td>725.68</td>\n      <td>6.0</td>\n      <td>13.0</td>\n    </tr>\n    <tr>\n      <th>hero_5002</th>\n      <td>6.0</td>\n      <td>1.0</td>\n      <td>15.0</td>\n      <td>NaN</td>\n      <td>6.0</td>\n      <td>2.0</td>\n      <td>0.000000</td>\n      <td>0.00</td>\n      <td>0.0</td>\n      <td>28.0</td>\n    </tr>\n  </tbody>\n</table>\n</div>"
     },
     "metadata": {},
     "output_type": "display_data"
    },
    {
     "name": "stdout",
     "output_type": "stream",
     "text": [
      "for_qiangye_skill_83.json\n"
     ]
    },
    {
     "data": {
      "text/plain": "                  BOTTOM  LEFT  RIGHT  SKILL_86  TOP     平均伤害     总伤害  总伤害次数  \\\nmonster_18714666     1.0   3.0    3.0       6.0  6.0  130.835  785.01    6.0   \nhero_5002            0.0   1.0    0.0       NaN  4.0    0.000    0.00    0.0   \n\n                  总移动次数  WAIT  \nmonster_18714666   13.0   NaN  \nhero_5002           5.0   2.0  ",
      "text/html": "<div>\n<style scoped>\n    .dataframe tbody tr th:only-of-type {\n        vertical-align: middle;\n    }\n\n    .dataframe tbody tr th {\n        vertical-align: top;\n    }\n\n    .dataframe thead th {\n        text-align: right;\n    }\n</style>\n<table border=\"1\" class=\"dataframe\">\n  <thead>\n    <tr style=\"text-align: right;\">\n      <th></th>\n      <th>BOTTOM</th>\n      <th>LEFT</th>\n      <th>RIGHT</th>\n      <th>SKILL_86</th>\n      <th>TOP</th>\n      <th>平均伤害</th>\n      <th>总伤害</th>\n      <th>总伤害次数</th>\n      <th>总移动次数</th>\n      <th>WAIT</th>\n    </tr>\n  </thead>\n  <tbody>\n    <tr>\n      <th>monster_18714666</th>\n      <td>1.0</td>\n      <td>3.0</td>\n      <td>3.0</td>\n      <td>6.0</td>\n      <td>6.0</td>\n      <td>130.835</td>\n      <td>785.01</td>\n      <td>6.0</td>\n      <td>13.0</td>\n      <td>NaN</td>\n    </tr>\n    <tr>\n      <th>hero_5002</th>\n      <td>0.0</td>\n      <td>1.0</td>\n      <td>0.0</td>\n      <td>NaN</td>\n      <td>4.0</td>\n      <td>0.000</td>\n      <td>0.00</td>\n      <td>0.0</td>\n      <td>5.0</td>\n      <td>2.0</td>\n    </tr>\n  </tbody>\n</table>\n</div>"
     },
     "metadata": {},
     "output_type": "display_data"
    },
    {
     "name": "stdout",
     "output_type": "stream",
     "text": [
      "for_qiangye_skill_77.json\n"
     ]
    },
    {
     "data": {
      "text/plain": "                  BOTTOM  LEFT  RIGHT  SKILL_86  TOP   平均伤害    总伤害  总伤害次数  \\\nmonster_18714666     0.0   3.0    5.0       3.0  1.0  114.1  342.3    3.0   \nhero_5002            2.0   3.0    6.0       NaN  2.0  210.0  630.0    3.0   \n\n                  总移动次数  SKILL_77  \nmonster_18714666    9.0       NaN  \nhero_5002          13.0       3.0  ",
      "text/html": "<div>\n<style scoped>\n    .dataframe tbody tr th:only-of-type {\n        vertical-align: middle;\n    }\n\n    .dataframe tbody tr th {\n        vertical-align: top;\n    }\n\n    .dataframe thead th {\n        text-align: right;\n    }\n</style>\n<table border=\"1\" class=\"dataframe\">\n  <thead>\n    <tr style=\"text-align: right;\">\n      <th></th>\n      <th>BOTTOM</th>\n      <th>LEFT</th>\n      <th>RIGHT</th>\n      <th>SKILL_86</th>\n      <th>TOP</th>\n      <th>平均伤害</th>\n      <th>总伤害</th>\n      <th>总伤害次数</th>\n      <th>总移动次数</th>\n      <th>SKILL_77</th>\n    </tr>\n  </thead>\n  <tbody>\n    <tr>\n      <th>monster_18714666</th>\n      <td>0.0</td>\n      <td>3.0</td>\n      <td>5.0</td>\n      <td>3.0</td>\n      <td>1.0</td>\n      <td>114.1</td>\n      <td>342.3</td>\n      <td>3.0</td>\n      <td>9.0</td>\n      <td>NaN</td>\n    </tr>\n    <tr>\n      <th>hero_5002</th>\n      <td>2.0</td>\n      <td>3.0</td>\n      <td>6.0</td>\n      <td>NaN</td>\n      <td>2.0</td>\n      <td>210.0</td>\n      <td>630.0</td>\n      <td>3.0</td>\n      <td>13.0</td>\n      <td>3.0</td>\n    </tr>\n  </tbody>\n</table>\n</div>"
     },
     "metadata": {},
     "output_type": "display_data"
    },
    {
     "name": "stdout",
     "output_type": "stream",
     "text": [
      "for_qiangye_skill_82.json\n"
     ]
    },
    {
     "data": {
      "text/plain": "                  BOTTOM  LEFT  RIGHT  SKILL_86  TOP        平均伤害     总伤害  \\\nmonster_18714666     2.0   3.0    4.0       7.0  6.0  120.782857  845.48   \nhero_5002            0.0   1.0    0.0       NaN  4.0    0.000000    0.00   \n\n                  总伤害次数  总移动次数  WAIT  \nmonster_18714666    7.0   15.0   NaN  \nhero_5002           0.0    5.0   3.0  ",
      "text/html": "<div>\n<style scoped>\n    .dataframe tbody tr th:only-of-type {\n        vertical-align: middle;\n    }\n\n    .dataframe tbody tr th {\n        vertical-align: top;\n    }\n\n    .dataframe thead th {\n        text-align: right;\n    }\n</style>\n<table border=\"1\" class=\"dataframe\">\n  <thead>\n    <tr style=\"text-align: right;\">\n      <th></th>\n      <th>BOTTOM</th>\n      <th>LEFT</th>\n      <th>RIGHT</th>\n      <th>SKILL_86</th>\n      <th>TOP</th>\n      <th>平均伤害</th>\n      <th>总伤害</th>\n      <th>总伤害次数</th>\n      <th>总移动次数</th>\n      <th>WAIT</th>\n    </tr>\n  </thead>\n  <tbody>\n    <tr>\n      <th>monster_18714666</th>\n      <td>2.0</td>\n      <td>3.0</td>\n      <td>4.0</td>\n      <td>7.0</td>\n      <td>6.0</td>\n      <td>120.782857</td>\n      <td>845.48</td>\n      <td>7.0</td>\n      <td>15.0</td>\n      <td>NaN</td>\n    </tr>\n    <tr>\n      <th>hero_5002</th>\n      <td>0.0</td>\n      <td>1.0</td>\n      <td>0.0</td>\n      <td>NaN</td>\n      <td>4.0</td>\n      <td>0.000000</td>\n      <td>0.00</td>\n      <td>0.0</td>\n      <td>5.0</td>\n      <td>3.0</td>\n    </tr>\n  </tbody>\n</table>\n</div>"
     },
     "metadata": {},
     "output_type": "display_data"
    },
    {
     "name": "stdout",
     "output_type": "stream",
     "text": [
      "for_qiangye_skill_94.json\n"
     ]
    },
    {
     "data": {
      "text/plain": "                  BOTTOM  LEFT  RIGHT  SKILL_86  TOP        平均伤害     总伤害  \\\nmonster_18714666     2.0   3.0    4.0       7.0  6.0  120.945714  846.62   \nhero_5002            0.0   1.0    0.0       NaN  4.0    0.000000    0.00   \n\n                  总伤害次数  总移动次数  WAIT  \nmonster_18714666    7.0   15.0   NaN  \nhero_5002           0.0    5.0   3.0  ",
      "text/html": "<div>\n<style scoped>\n    .dataframe tbody tr th:only-of-type {\n        vertical-align: middle;\n    }\n\n    .dataframe tbody tr th {\n        vertical-align: top;\n    }\n\n    .dataframe thead th {\n        text-align: right;\n    }\n</style>\n<table border=\"1\" class=\"dataframe\">\n  <thead>\n    <tr style=\"text-align: right;\">\n      <th></th>\n      <th>BOTTOM</th>\n      <th>LEFT</th>\n      <th>RIGHT</th>\n      <th>SKILL_86</th>\n      <th>TOP</th>\n      <th>平均伤害</th>\n      <th>总伤害</th>\n      <th>总伤害次数</th>\n      <th>总移动次数</th>\n      <th>WAIT</th>\n    </tr>\n  </thead>\n  <tbody>\n    <tr>\n      <th>monster_18714666</th>\n      <td>2.0</td>\n      <td>3.0</td>\n      <td>4.0</td>\n      <td>7.0</td>\n      <td>6.0</td>\n      <td>120.945714</td>\n      <td>846.62</td>\n      <td>7.0</td>\n      <td>15.0</td>\n      <td>NaN</td>\n    </tr>\n    <tr>\n      <th>hero_5002</th>\n      <td>0.0</td>\n      <td>1.0</td>\n      <td>0.0</td>\n      <td>NaN</td>\n      <td>4.0</td>\n      <td>0.000000</td>\n      <td>0.00</td>\n      <td>0.0</td>\n      <td>5.0</td>\n      <td>3.0</td>\n    </tr>\n  </tbody>\n</table>\n</div>"
     },
     "metadata": {},
     "output_type": "display_data"
    },
    {
     "name": "stdout",
     "output_type": "stream",
     "text": [
      "for_qiangye_skill_89.json\n"
     ]
    },
    {
     "data": {
      "text/plain": "                  BOTTOM  LEFT  RIGHT  SKILL_86  TOP   平均伤害    总伤害  总伤害次数  \\\nmonster_18714666     2.0   3.0    4.0       7.0  6.0  114.1  798.7    7.0   \nhero_5002            0.0   1.0    0.0       NaN  4.0    0.0    0.0    0.0   \n\n                  总移动次数  WAIT  \nmonster_18714666   15.0   NaN  \nhero_5002           5.0   3.0  ",
      "text/html": "<div>\n<style scoped>\n    .dataframe tbody tr th:only-of-type {\n        vertical-align: middle;\n    }\n\n    .dataframe tbody tr th {\n        vertical-align: top;\n    }\n\n    .dataframe thead th {\n        text-align: right;\n    }\n</style>\n<table border=\"1\" class=\"dataframe\">\n  <thead>\n    <tr style=\"text-align: right;\">\n      <th></th>\n      <th>BOTTOM</th>\n      <th>LEFT</th>\n      <th>RIGHT</th>\n      <th>SKILL_86</th>\n      <th>TOP</th>\n      <th>平均伤害</th>\n      <th>总伤害</th>\n      <th>总伤害次数</th>\n      <th>总移动次数</th>\n      <th>WAIT</th>\n    </tr>\n  </thead>\n  <tbody>\n    <tr>\n      <th>monster_18714666</th>\n      <td>2.0</td>\n      <td>3.0</td>\n      <td>4.0</td>\n      <td>7.0</td>\n      <td>6.0</td>\n      <td>114.1</td>\n      <td>798.7</td>\n      <td>7.0</td>\n      <td>15.0</td>\n      <td>NaN</td>\n    </tr>\n    <tr>\n      <th>hero_5002</th>\n      <td>0.0</td>\n      <td>1.0</td>\n      <td>0.0</td>\n      <td>NaN</td>\n      <td>4.0</td>\n      <td>0.0</td>\n      <td>0.0</td>\n      <td>0.0</td>\n      <td>5.0</td>\n      <td>3.0</td>\n    </tr>\n  </tbody>\n</table>\n</div>"
     },
     "metadata": {},
     "output_type": "display_data"
    },
    {
     "name": "stdout",
     "output_type": "stream",
     "text": [
      "for_qiangye_skill_93.json\n"
     ]
    },
    {
     "data": {
      "text/plain": "                  BOTTOM  LEFT  RIGHT  SKILL_86  TOP        平均伤害     总伤害  \\\nmonster_18714666     2.0   3.0    4.0       7.0  6.0  126.977143  888.84   \nhero_5002            0.0   1.0    0.0       NaN  4.0    0.000000    0.00   \n\n                  总伤害次数  总移动次数  WAIT  \nmonster_18714666    7.0   15.0   NaN  \nhero_5002           0.0    5.0   3.0  ",
      "text/html": "<div>\n<style scoped>\n    .dataframe tbody tr th:only-of-type {\n        vertical-align: middle;\n    }\n\n    .dataframe tbody tr th {\n        vertical-align: top;\n    }\n\n    .dataframe thead th {\n        text-align: right;\n    }\n</style>\n<table border=\"1\" class=\"dataframe\">\n  <thead>\n    <tr style=\"text-align: right;\">\n      <th></th>\n      <th>BOTTOM</th>\n      <th>LEFT</th>\n      <th>RIGHT</th>\n      <th>SKILL_86</th>\n      <th>TOP</th>\n      <th>平均伤害</th>\n      <th>总伤害</th>\n      <th>总伤害次数</th>\n      <th>总移动次数</th>\n      <th>WAIT</th>\n    </tr>\n  </thead>\n  <tbody>\n    <tr>\n      <th>monster_18714666</th>\n      <td>2.0</td>\n      <td>3.0</td>\n      <td>4.0</td>\n      <td>7.0</td>\n      <td>6.0</td>\n      <td>126.977143</td>\n      <td>888.84</td>\n      <td>7.0</td>\n      <td>15.0</td>\n      <td>NaN</td>\n    </tr>\n    <tr>\n      <th>hero_5002</th>\n      <td>0.0</td>\n      <td>1.0</td>\n      <td>0.0</td>\n      <td>NaN</td>\n      <td>4.0</td>\n      <td>0.000000</td>\n      <td>0.00</td>\n      <td>0.0</td>\n      <td>5.0</td>\n      <td>3.0</td>\n    </tr>\n  </tbody>\n</table>\n</div>"
     },
     "metadata": {},
     "output_type": "display_data"
    },
    {
     "name": "stdout",
     "output_type": "stream",
     "text": [
      "for_qiangye_skill_85.json\n"
     ]
    },
    {
     "data": {
      "text/plain": "                  BOTTOM  LEFT  RIGHT  SKILL_86  TOP        平均伤害     总伤害  \\\nmonster_18714666     1.0   3.0    3.0       6.0  6.0  132.926667  797.56   \nhero_5002            0.0   1.0    0.0       NaN  4.0    0.000000    0.00   \n\n                  总伤害次数  总移动次数  WAIT  \nmonster_18714666    6.0   13.0   NaN  \nhero_5002           0.0    5.0   2.0  ",
      "text/html": "<div>\n<style scoped>\n    .dataframe tbody tr th:only-of-type {\n        vertical-align: middle;\n    }\n\n    .dataframe tbody tr th {\n        vertical-align: top;\n    }\n\n    .dataframe thead th {\n        text-align: right;\n    }\n</style>\n<table border=\"1\" class=\"dataframe\">\n  <thead>\n    <tr style=\"text-align: right;\">\n      <th></th>\n      <th>BOTTOM</th>\n      <th>LEFT</th>\n      <th>RIGHT</th>\n      <th>SKILL_86</th>\n      <th>TOP</th>\n      <th>平均伤害</th>\n      <th>总伤害</th>\n      <th>总伤害次数</th>\n      <th>总移动次数</th>\n      <th>WAIT</th>\n    </tr>\n  </thead>\n  <tbody>\n    <tr>\n      <th>monster_18714666</th>\n      <td>1.0</td>\n      <td>3.0</td>\n      <td>3.0</td>\n      <td>6.0</td>\n      <td>6.0</td>\n      <td>132.926667</td>\n      <td>797.56</td>\n      <td>6.0</td>\n      <td>13.0</td>\n      <td>NaN</td>\n    </tr>\n    <tr>\n      <th>hero_5002</th>\n      <td>0.0</td>\n      <td>1.0</td>\n      <td>0.0</td>\n      <td>NaN</td>\n      <td>4.0</td>\n      <td>0.000000</td>\n      <td>0.00</td>\n      <td>0.0</td>\n      <td>5.0</td>\n      <td>2.0</td>\n    </tr>\n  </tbody>\n</table>\n</div>"
     },
     "metadata": {},
     "output_type": "display_data"
    },
    {
     "name": "stdout",
     "output_type": "stream",
     "text": [
      "for_qiangye_skill_84.json\n"
     ]
    },
    {
     "data": {
      "text/plain": "                  BOTTOM  LEFT  RIGHT  SKILL_86  TOP   平均伤害    总伤害  总伤害次数  \\\nmonster_18714666     2.0   3.0    4.0       7.0  6.0  114.1  798.7    7.0   \nhero_5002            0.0   1.0    0.0       NaN  4.0    0.0    0.0    0.0   \n\n                  总移动次数  WAIT  \nmonster_18714666   15.0   NaN  \nhero_5002           5.0   3.0  ",
      "text/html": "<div>\n<style scoped>\n    .dataframe tbody tr th:only-of-type {\n        vertical-align: middle;\n    }\n\n    .dataframe tbody tr th {\n        vertical-align: top;\n    }\n\n    .dataframe thead th {\n        text-align: right;\n    }\n</style>\n<table border=\"1\" class=\"dataframe\">\n  <thead>\n    <tr style=\"text-align: right;\">\n      <th></th>\n      <th>BOTTOM</th>\n      <th>LEFT</th>\n      <th>RIGHT</th>\n      <th>SKILL_86</th>\n      <th>TOP</th>\n      <th>平均伤害</th>\n      <th>总伤害</th>\n      <th>总伤害次数</th>\n      <th>总移动次数</th>\n      <th>WAIT</th>\n    </tr>\n  </thead>\n  <tbody>\n    <tr>\n      <th>monster_18714666</th>\n      <td>2.0</td>\n      <td>3.0</td>\n      <td>4.0</td>\n      <td>7.0</td>\n      <td>6.0</td>\n      <td>114.1</td>\n      <td>798.7</td>\n      <td>7.0</td>\n      <td>15.0</td>\n      <td>NaN</td>\n    </tr>\n    <tr>\n      <th>hero_5002</th>\n      <td>0.0</td>\n      <td>1.0</td>\n      <td>0.0</td>\n      <td>NaN</td>\n      <td>4.0</td>\n      <td>0.0</td>\n      <td>0.0</td>\n      <td>0.0</td>\n      <td>5.0</td>\n      <td>3.0</td>\n    </tr>\n  </tbody>\n</table>\n</div>"
     },
     "metadata": {},
     "output_type": "display_data"
    },
    {
     "name": "stdout",
     "output_type": "stream",
     "text": [
      "for_qiangye_skill_92.json\n"
     ]
    },
    {
     "data": {
      "text/plain": "                  BOTTOM  LEFT  RIGHT  SKILL_86  TOP        平均伤害     总伤害  \\\nmonster_18714666     2.0   3.0    4.0       7.0  6.0  117.848571  824.94   \nhero_5002            0.0   1.0    0.0       NaN  4.0    0.000000    0.00   \n\n                  总伤害次数  总移动次数  WAIT  \nmonster_18714666    7.0   15.0   NaN  \nhero_5002           0.0    5.0   3.0  ",
      "text/html": "<div>\n<style scoped>\n    .dataframe tbody tr th:only-of-type {\n        vertical-align: middle;\n    }\n\n    .dataframe tbody tr th {\n        vertical-align: top;\n    }\n\n    .dataframe thead th {\n        text-align: right;\n    }\n</style>\n<table border=\"1\" class=\"dataframe\">\n  <thead>\n    <tr style=\"text-align: right;\">\n      <th></th>\n      <th>BOTTOM</th>\n      <th>LEFT</th>\n      <th>RIGHT</th>\n      <th>SKILL_86</th>\n      <th>TOP</th>\n      <th>平均伤害</th>\n      <th>总伤害</th>\n      <th>总伤害次数</th>\n      <th>总移动次数</th>\n      <th>WAIT</th>\n    </tr>\n  </thead>\n  <tbody>\n    <tr>\n      <th>monster_18714666</th>\n      <td>2.0</td>\n      <td>3.0</td>\n      <td>4.0</td>\n      <td>7.0</td>\n      <td>6.0</td>\n      <td>117.848571</td>\n      <td>824.94</td>\n      <td>7.0</td>\n      <td>15.0</td>\n      <td>NaN</td>\n    </tr>\n    <tr>\n      <th>hero_5002</th>\n      <td>0.0</td>\n      <td>1.0</td>\n      <td>0.0</td>\n      <td>NaN</td>\n      <td>4.0</td>\n      <td>0.000000</td>\n      <td>0.00</td>\n      <td>0.0</td>\n      <td>5.0</td>\n      <td>3.0</td>\n    </tr>\n  </tbody>\n</table>\n</div>"
     },
     "metadata": {},
     "output_type": "display_data"
    },
    {
     "name": "stdout",
     "output_type": "stream",
     "text": [
      "for_qiangye_skill_88.json\n"
     ]
    },
    {
     "data": {
      "text/plain": "                  BOTTOM  LEFT  RIGHT  SKILL_86  TOP        平均伤害     总伤害  \\\nmonster_18714666     1.0   3.0    3.0       6.0  6.0  128.741667  772.45   \nhero_5002            0.0   1.0    0.0       NaN  4.0    0.000000    0.00   \n\n                  总伤害次数  总移动次数  WAIT  \nmonster_18714666    6.0   13.0   NaN  \nhero_5002           0.0    5.0   2.0  ",
      "text/html": "<div>\n<style scoped>\n    .dataframe tbody tr th:only-of-type {\n        vertical-align: middle;\n    }\n\n    .dataframe tbody tr th {\n        vertical-align: top;\n    }\n\n    .dataframe thead th {\n        text-align: right;\n    }\n</style>\n<table border=\"1\" class=\"dataframe\">\n  <thead>\n    <tr style=\"text-align: right;\">\n      <th></th>\n      <th>BOTTOM</th>\n      <th>LEFT</th>\n      <th>RIGHT</th>\n      <th>SKILL_86</th>\n      <th>TOP</th>\n      <th>平均伤害</th>\n      <th>总伤害</th>\n      <th>总伤害次数</th>\n      <th>总移动次数</th>\n      <th>WAIT</th>\n    </tr>\n  </thead>\n  <tbody>\n    <tr>\n      <th>monster_18714666</th>\n      <td>1.0</td>\n      <td>3.0</td>\n      <td>3.0</td>\n      <td>6.0</td>\n      <td>6.0</td>\n      <td>128.741667</td>\n      <td>772.45</td>\n      <td>6.0</td>\n      <td>13.0</td>\n      <td>NaN</td>\n    </tr>\n    <tr>\n      <th>hero_5002</th>\n      <td>0.0</td>\n      <td>1.0</td>\n      <td>0.0</td>\n      <td>NaN</td>\n      <td>4.0</td>\n      <td>0.000000</td>\n      <td>0.00</td>\n      <td>0.0</td>\n      <td>5.0</td>\n      <td>2.0</td>\n    </tr>\n  </tbody>\n</table>\n</div>"
     },
     "metadata": {},
     "output_type": "display_data"
    },
    {
     "name": "stdout",
     "output_type": "stream",
     "text": [
      "for_qiangye_skill_87.json\n"
     ]
    },
    {
     "data": {
      "text/plain": "                  BOTTOM  LEFT  RIGHT  SKILL_86  TOP        平均伤害     总伤害  \\\nmonster_18714666     1.0   3.0    3.0       6.0  6.0  140.343333  842.06   \nhero_5002            0.0   1.0    0.0       NaN  4.0    0.000000    0.00   \n\n                  总伤害次数  总移动次数  WAIT  \nmonster_18714666    6.0   13.0   NaN  \nhero_5002           0.0    5.0   2.0  ",
      "text/html": "<div>\n<style scoped>\n    .dataframe tbody tr th:only-of-type {\n        vertical-align: middle;\n    }\n\n    .dataframe tbody tr th {\n        vertical-align: top;\n    }\n\n    .dataframe thead th {\n        text-align: right;\n    }\n</style>\n<table border=\"1\" class=\"dataframe\">\n  <thead>\n    <tr style=\"text-align: right;\">\n      <th></th>\n      <th>BOTTOM</th>\n      <th>LEFT</th>\n      <th>RIGHT</th>\n      <th>SKILL_86</th>\n      <th>TOP</th>\n      <th>平均伤害</th>\n      <th>总伤害</th>\n      <th>总伤害次数</th>\n      <th>总移动次数</th>\n      <th>WAIT</th>\n    </tr>\n  </thead>\n  <tbody>\n    <tr>\n      <th>monster_18714666</th>\n      <td>1.0</td>\n      <td>3.0</td>\n      <td>3.0</td>\n      <td>6.0</td>\n      <td>6.0</td>\n      <td>140.343333</td>\n      <td>842.06</td>\n      <td>6.0</td>\n      <td>13.0</td>\n      <td>NaN</td>\n    </tr>\n    <tr>\n      <th>hero_5002</th>\n      <td>0.0</td>\n      <td>1.0</td>\n      <td>0.0</td>\n      <td>NaN</td>\n      <td>4.0</td>\n      <td>0.000000</td>\n      <td>0.00</td>\n      <td>0.0</td>\n      <td>5.0</td>\n      <td>2.0</td>\n    </tr>\n  </tbody>\n</table>\n</div>"
     },
     "metadata": {},
     "output_type": "display_data"
    },
    {
     "name": "stdout",
     "output_type": "stream",
     "text": [
      "for_qiangye_skill_91.json\n"
     ]
    },
    {
     "data": {
      "text/plain": "                  BOTTOM  LEFT  RIGHT  SKILL_86  TOP        平均伤害     总伤害  \\\nmonster_18714666     2.0   3.0    4.0       7.0  6.0  118.011429  826.08   \nhero_5002            0.0   1.0    0.0       NaN  4.0    0.000000    0.00   \n\n                  总伤害次数  总移动次数  WAIT  \nmonster_18714666    7.0   15.0   NaN  \nhero_5002           0.0    5.0   3.0  ",
      "text/html": "<div>\n<style scoped>\n    .dataframe tbody tr th:only-of-type {\n        vertical-align: middle;\n    }\n\n    .dataframe tbody tr th {\n        vertical-align: top;\n    }\n\n    .dataframe thead th {\n        text-align: right;\n    }\n</style>\n<table border=\"1\" class=\"dataframe\">\n  <thead>\n    <tr style=\"text-align: right;\">\n      <th></th>\n      <th>BOTTOM</th>\n      <th>LEFT</th>\n      <th>RIGHT</th>\n      <th>SKILL_86</th>\n      <th>TOP</th>\n      <th>平均伤害</th>\n      <th>总伤害</th>\n      <th>总伤害次数</th>\n      <th>总移动次数</th>\n      <th>WAIT</th>\n    </tr>\n  </thead>\n  <tbody>\n    <tr>\n      <th>monster_18714666</th>\n      <td>2.0</td>\n      <td>3.0</td>\n      <td>4.0</td>\n      <td>7.0</td>\n      <td>6.0</td>\n      <td>118.011429</td>\n      <td>826.08</td>\n      <td>7.0</td>\n      <td>15.0</td>\n      <td>NaN</td>\n    </tr>\n    <tr>\n      <th>hero_5002</th>\n      <td>0.0</td>\n      <td>1.0</td>\n      <td>0.0</td>\n      <td>NaN</td>\n      <td>4.0</td>\n      <td>0.000000</td>\n      <td>0.00</td>\n      <td>0.0</td>\n      <td>5.0</td>\n      <td>3.0</td>\n    </tr>\n  </tbody>\n</table>\n</div>"
     },
     "metadata": {},
     "output_type": "display_data"
    },
    {
     "name": "stdout",
     "output_type": "stream",
     "text": [
      "for_qiangye_skill_90.json\n"
     ]
    },
    {
     "data": {
      "text/plain": "                  BOTTOM  LEFT  RIGHT  SKILL_86  TOP   平均伤害    总伤害  总伤害次数  \\\nmonster_18714666     2.0   3.0    4.0       7.0  6.0  114.1  798.7    7.0   \nhero_5002            0.0   1.0    0.0       NaN  4.0    0.0    0.0    0.0   \n\n                  总移动次数  WAIT  \nmonster_18714666   15.0   NaN  \nhero_5002           5.0   3.0  ",
      "text/html": "<div>\n<style scoped>\n    .dataframe tbody tr th:only-of-type {\n        vertical-align: middle;\n    }\n\n    .dataframe tbody tr th {\n        vertical-align: top;\n    }\n\n    .dataframe thead th {\n        text-align: right;\n    }\n</style>\n<table border=\"1\" class=\"dataframe\">\n  <thead>\n    <tr style=\"text-align: right;\">\n      <th></th>\n      <th>BOTTOM</th>\n      <th>LEFT</th>\n      <th>RIGHT</th>\n      <th>SKILL_86</th>\n      <th>TOP</th>\n      <th>平均伤害</th>\n      <th>总伤害</th>\n      <th>总伤害次数</th>\n      <th>总移动次数</th>\n      <th>WAIT</th>\n    </tr>\n  </thead>\n  <tbody>\n    <tr>\n      <th>monster_18714666</th>\n      <td>2.0</td>\n      <td>3.0</td>\n      <td>4.0</td>\n      <td>7.0</td>\n      <td>6.0</td>\n      <td>114.1</td>\n      <td>798.7</td>\n      <td>7.0</td>\n      <td>15.0</td>\n      <td>NaN</td>\n    </tr>\n    <tr>\n      <th>hero_5002</th>\n      <td>0.0</td>\n      <td>1.0</td>\n      <td>0.0</td>\n      <td>NaN</td>\n      <td>4.0</td>\n      <td>0.0</td>\n      <td>0.0</td>\n      <td>0.0</td>\n      <td>5.0</td>\n      <td>3.0</td>\n    </tr>\n  </tbody>\n</table>\n</div>"
     },
     "metadata": {},
     "output_type": "display_data"
    },
    {
     "name": "stdout",
     "output_type": "stream",
     "text": [
      "for_qiangye_skill_86.json\n"
     ]
    },
    {
     "data": {
      "text/plain": "                  BOTTOM  LEFT  RIGHT  SKILL_86  TOP        平均伤害     总伤害  \\\nmonster_18714666     2.0   3.0    4.0       7.0  6.0  118.827143  831.79   \nhero_5002            0.0   1.0    0.0       NaN  4.0    0.000000    0.00   \n\n                  总伤害次数  总移动次数  WAIT  \nmonster_18714666    7.0   15.0   NaN  \nhero_5002           0.0    5.0   3.0  ",
      "text/html": "<div>\n<style scoped>\n    .dataframe tbody tr th:only-of-type {\n        vertical-align: middle;\n    }\n\n    .dataframe tbody tr th {\n        vertical-align: top;\n    }\n\n    .dataframe thead th {\n        text-align: right;\n    }\n</style>\n<table border=\"1\" class=\"dataframe\">\n  <thead>\n    <tr style=\"text-align: right;\">\n      <th></th>\n      <th>BOTTOM</th>\n      <th>LEFT</th>\n      <th>RIGHT</th>\n      <th>SKILL_86</th>\n      <th>TOP</th>\n      <th>平均伤害</th>\n      <th>总伤害</th>\n      <th>总伤害次数</th>\n      <th>总移动次数</th>\n      <th>WAIT</th>\n    </tr>\n  </thead>\n  <tbody>\n    <tr>\n      <th>monster_18714666</th>\n      <td>2.0</td>\n      <td>3.0</td>\n      <td>4.0</td>\n      <td>7.0</td>\n      <td>6.0</td>\n      <td>118.827143</td>\n      <td>831.79</td>\n      <td>7.0</td>\n      <td>15.0</td>\n      <td>NaN</td>\n    </tr>\n    <tr>\n      <th>hero_5002</th>\n      <td>0.0</td>\n      <td>1.0</td>\n      <td>0.0</td>\n      <td>NaN</td>\n      <td>4.0</td>\n      <td>0.000000</td>\n      <td>0.00</td>\n      <td>0.0</td>\n      <td>5.0</td>\n      <td>3.0</td>\n    </tr>\n  </tbody>\n</table>\n</div>"
     },
     "metadata": {},
     "output_type": "display_data"
    },
    {
     "name": "stdout",
     "output_type": "stream",
     "text": [
      "for_qiangye_skill_81.json\n"
     ]
    },
    {
     "data": {
      "text/plain": "                  BOTTOM  LEFT  RIGHT  SKILL_86  TOP    平均伤害     总伤害  总伤害次数  \\\nmonster_18714666     1.0   3.0    3.0       6.0  6.0  126.08  756.48    6.0   \nhero_5002            0.0   1.0    0.0       NaN  4.0    0.00    0.00    0.0   \n\n                  总移动次数  WAIT  \nmonster_18714666   13.0   NaN  \nhero_5002           5.0   2.0  ",
      "text/html": "<div>\n<style scoped>\n    .dataframe tbody tr th:only-of-type {\n        vertical-align: middle;\n    }\n\n    .dataframe tbody tr th {\n        vertical-align: top;\n    }\n\n    .dataframe thead th {\n        text-align: right;\n    }\n</style>\n<table border=\"1\" class=\"dataframe\">\n  <thead>\n    <tr style=\"text-align: right;\">\n      <th></th>\n      <th>BOTTOM</th>\n      <th>LEFT</th>\n      <th>RIGHT</th>\n      <th>SKILL_86</th>\n      <th>TOP</th>\n      <th>平均伤害</th>\n      <th>总伤害</th>\n      <th>总伤害次数</th>\n      <th>总移动次数</th>\n      <th>WAIT</th>\n    </tr>\n  </thead>\n  <tbody>\n    <tr>\n      <th>monster_18714666</th>\n      <td>1.0</td>\n      <td>3.0</td>\n      <td>3.0</td>\n      <td>6.0</td>\n      <td>6.0</td>\n      <td>126.08</td>\n      <td>756.48</td>\n      <td>6.0</td>\n      <td>13.0</td>\n      <td>NaN</td>\n    </tr>\n    <tr>\n      <th>hero_5002</th>\n      <td>0.0</td>\n      <td>1.0</td>\n      <td>0.0</td>\n      <td>NaN</td>\n      <td>4.0</td>\n      <td>0.00</td>\n      <td>0.00</td>\n      <td>0.0</td>\n      <td>5.0</td>\n      <td>2.0</td>\n    </tr>\n  </tbody>\n</table>\n</div>"
     },
     "metadata": {},
     "output_type": "display_data"
    },
    {
     "name": "stdout",
     "output_type": "stream",
     "text": [
      "for_qiangye_skill_96.json\n"
     ]
    },
    {
     "data": {
      "text/plain": "                  BOTTOM  LEFT  RIGHT  SKILL_86  TOP        平均伤害     总伤害  \\\nmonster_18714666     2.0   3.0    4.0       7.0  6.0  116.055714  812.39   \nhero_5002            0.0   1.0    0.0       NaN  4.0    0.000000    0.00   \n\n                  总伤害次数  总移动次数  WAIT  \nmonster_18714666    7.0   15.0   NaN  \nhero_5002           0.0    5.0   3.0  ",
      "text/html": "<div>\n<style scoped>\n    .dataframe tbody tr th:only-of-type {\n        vertical-align: middle;\n    }\n\n    .dataframe tbody tr th {\n        vertical-align: top;\n    }\n\n    .dataframe thead th {\n        text-align: right;\n    }\n</style>\n<table border=\"1\" class=\"dataframe\">\n  <thead>\n    <tr style=\"text-align: right;\">\n      <th></th>\n      <th>BOTTOM</th>\n      <th>LEFT</th>\n      <th>RIGHT</th>\n      <th>SKILL_86</th>\n      <th>TOP</th>\n      <th>平均伤害</th>\n      <th>总伤害</th>\n      <th>总伤害次数</th>\n      <th>总移动次数</th>\n      <th>WAIT</th>\n    </tr>\n  </thead>\n  <tbody>\n    <tr>\n      <th>monster_18714666</th>\n      <td>2.0</td>\n      <td>3.0</td>\n      <td>4.0</td>\n      <td>7.0</td>\n      <td>6.0</td>\n      <td>116.055714</td>\n      <td>812.39</td>\n      <td>7.0</td>\n      <td>15.0</td>\n      <td>NaN</td>\n    </tr>\n    <tr>\n      <th>hero_5002</th>\n      <td>0.0</td>\n      <td>1.0</td>\n      <td>0.0</td>\n      <td>NaN</td>\n      <td>4.0</td>\n      <td>0.000000</td>\n      <td>0.00</td>\n      <td>0.0</td>\n      <td>5.0</td>\n      <td>3.0</td>\n    </tr>\n  </tbody>\n</table>\n</div>"
     },
     "metadata": {},
     "output_type": "display_data"
    },
    {
     "name": "stdout",
     "output_type": "stream",
     "text": [
      "for_qiangye_skill_79.json\n"
     ]
    },
    {
     "data": {
      "text/plain": "                  BOTTOM  LEFT  RIGHT  SKILL_86  TOP    平均伤害     总伤害  总伤害次数  \\\nmonster_18714666     1.0   3.0    3.0       6.0  6.0  126.84  761.04    6.0   \nhero_5002            0.0   1.0    0.0       NaN  4.0    0.00    0.00    0.0   \n\n                  总移动次数  WAIT  \nmonster_18714666   13.0   NaN  \nhero_5002           5.0   2.0  ",
      "text/html": "<div>\n<style scoped>\n    .dataframe tbody tr th:only-of-type {\n        vertical-align: middle;\n    }\n\n    .dataframe tbody tr th {\n        vertical-align: top;\n    }\n\n    .dataframe thead th {\n        text-align: right;\n    }\n</style>\n<table border=\"1\" class=\"dataframe\">\n  <thead>\n    <tr style=\"text-align: right;\">\n      <th></th>\n      <th>BOTTOM</th>\n      <th>LEFT</th>\n      <th>RIGHT</th>\n      <th>SKILL_86</th>\n      <th>TOP</th>\n      <th>平均伤害</th>\n      <th>总伤害</th>\n      <th>总伤害次数</th>\n      <th>总移动次数</th>\n      <th>WAIT</th>\n    </tr>\n  </thead>\n  <tbody>\n    <tr>\n      <th>monster_18714666</th>\n      <td>1.0</td>\n      <td>3.0</td>\n      <td>3.0</td>\n      <td>6.0</td>\n      <td>6.0</td>\n      <td>126.84</td>\n      <td>761.04</td>\n      <td>6.0</td>\n      <td>13.0</td>\n      <td>NaN</td>\n    </tr>\n    <tr>\n      <th>hero_5002</th>\n      <td>0.0</td>\n      <td>1.0</td>\n      <td>0.0</td>\n      <td>NaN</td>\n      <td>4.0</td>\n      <td>0.00</td>\n      <td>0.00</td>\n      <td>0.0</td>\n      <td>5.0</td>\n      <td>2.0</td>\n    </tr>\n  </tbody>\n</table>\n</div>"
     },
     "metadata": {},
     "output_type": "display_data"
    },
    {
     "name": "stdout",
     "output_type": "stream",
     "text": [
      "for_qiangye_skill_80.json\n"
     ]
    },
    {
     "data": {
      "text/plain": "                  BOTTOM  LEFT  RIGHT  SKILL_86  TOP        平均伤害     总伤害  \\\nmonster_18714666     2.0   3.0    4.0       7.0  6.0  118.664286  830.65   \nhero_5002            0.0   1.0    0.0       NaN  4.0    0.000000    0.00   \n\n                  总伤害次数  总移动次数  WAIT  \nmonster_18714666    7.0   15.0   NaN  \nhero_5002           0.0    5.0   3.0  ",
      "text/html": "<div>\n<style scoped>\n    .dataframe tbody tr th:only-of-type {\n        vertical-align: middle;\n    }\n\n    .dataframe tbody tr th {\n        vertical-align: top;\n    }\n\n    .dataframe thead th {\n        text-align: right;\n    }\n</style>\n<table border=\"1\" class=\"dataframe\">\n  <thead>\n    <tr style=\"text-align: right;\">\n      <th></th>\n      <th>BOTTOM</th>\n      <th>LEFT</th>\n      <th>RIGHT</th>\n      <th>SKILL_86</th>\n      <th>TOP</th>\n      <th>平均伤害</th>\n      <th>总伤害</th>\n      <th>总伤害次数</th>\n      <th>总移动次数</th>\n      <th>WAIT</th>\n    </tr>\n  </thead>\n  <tbody>\n    <tr>\n      <th>monster_18714666</th>\n      <td>2.0</td>\n      <td>3.0</td>\n      <td>4.0</td>\n      <td>7.0</td>\n      <td>6.0</td>\n      <td>118.664286</td>\n      <td>830.65</td>\n      <td>7.0</td>\n      <td>15.0</td>\n      <td>NaN</td>\n    </tr>\n    <tr>\n      <th>hero_5002</th>\n      <td>0.0</td>\n      <td>1.0</td>\n      <td>0.0</td>\n      <td>NaN</td>\n      <td>4.0</td>\n      <td>0.000000</td>\n      <td>0.00</td>\n      <td>0.0</td>\n      <td>5.0</td>\n      <td>3.0</td>\n    </tr>\n  </tbody>\n</table>\n</div>"
     },
     "metadata": {},
     "output_type": "display_data"
    }
   ],
   "source": [
    "log_files_path = os.getcwd()+\"/test_data\"\n",
    "    #读取这个路径下所有文件\n",
    "log_files = os.listdir(log_files_path)\n",
    "for log_file in log_files:\n",
    "    if log_file.endswith(\".json\"):\n",
    "        log_path = log_files_path+\"/\"+log_file\n",
    "        parse_decision_log(log_path)\n",
    "        static_res_json=paese_result_json(log_path)\n",
    "        df=pd.DataFrame(static_res_json).T\n",
    "\n",
    "        print(log_file)\n",
    "        display(df)"
   ],
   "metadata": {
    "collapsed": false,
    "pycharm": {
     "name": "#%%\n"
    }
   }
  },
  {
   "cell_type": "code",
   "execution_count": 4,
   "outputs": [
    {
     "name": "stdout",
     "output_type": "stream",
     "text": [
      "{'action_type': 'RIGHT', 'move_position': [6, 1, 3], 'id': 18714666, 'class': 'monster'}\n",
      "{'action_type': 'RIGHT', 'move_position': [7, 1, 3], 'id': 18714666, 'class': 'monster'}\n",
      "{'action_type': 'SKILL_86', 'atk_range': [[4, 1, 3]], 'atk_position': [4, 1, 3], 'release_range': [[4, 1, 3], [5, 1, 2], [5, 1, 4], [6, 1, 5], [7, 1, 6], [8, 1, 5], [9, 1, 2], [9, 1, 4], [10, 1, 3]], 'damage': [[['hero', 5002], [114.1], [114.1], ['EQU']]], 'id': 18714666, 'class': 'monster'}\n",
      "{'action_type': 'WAIT', 'id': 5002, 'class': 'hero'}\n",
      "{'action_type': 'TOP', 'move_position': [7, 1, 4], 'id': 18714666, 'class': 'monster'}\n",
      "{'action_type': 'LEFT', 'move_position': [6, 1, 4], 'id': 18714666, 'class': 'monster'}\n",
      "{'action_type': 'SKILL_86', 'atk_range': [[4, 1, 3]], 'atk_position': [4, 1, 3], 'release_range': [[3, 1, 4], [4, 1, 3], [4, 1, 5], [5, 1, 2], [5, 1, 6], [6, 1, 7], [7, 1, 2], [7, 1, 6], [8, 1, 3], [8, 1, 5], [9, 1, 4]], 'damage': [[['hero', 5002], [114.1], [114.1], ['EQU']]], 'id': 18714666, 'class': 'monster'}\n",
      "{'action_type': 'RIGHT', 'move_position': [7, 1, 4], 'id': 18714666, 'class': 'monster'}\n",
      "{'action_type': 'BOTTOM', 'move_position': [7, 1, 3], 'id': 18714666, 'class': 'monster'}\n",
      "{'action_type': 'SKILL_86', 'atk_range': [[4, 1, 3]], 'atk_position': [4, 1, 3], 'release_range': [[4, 1, 3], [5, 1, 2], [5, 1, 4], [6, 1, 5], [7, 1, 6], [8, 1, 5], [9, 1, 2], [9, 1, 4], [10, 1, 3]], 'damage': [[['hero', 5002], [114.1], [114.1], ['EQU']]], 'id': 18714666, 'class': 'monster'}\n",
      "{'action_type': 'WAIT', 'id': 5002, 'class': 'hero'}\n",
      "{'action_type': 'TOP', 'move_position': [7, 1, 4], 'id': 18714666, 'class': 'monster'}\n",
      "{'action_type': 'LEFT', 'move_position': [6, 1, 4], 'id': 18714666, 'class': 'monster'}\n",
      "{'action_type': 'SKILL_86', 'atk_range': [[4, 1, 3]], 'atk_position': [4, 1, 3], 'release_range': [[3, 1, 4], [4, 1, 3], [4, 1, 5], [5, 1, 2], [5, 1, 6], [6, 1, 7], [7, 1, 2], [7, 1, 6], [8, 1, 3], [8, 1, 5], [9, 1, 4]], 'damage': [[['hero', 5002], [155.18], [155.18], ['EQU']]], 'id': 18714666, 'class': 'monster'}\n",
      "{'action_type': 'TOP', 'move_position': [4, 1, 4], 'id': 5002, 'class': 'hero'}\n",
      "{'action_type': 'TOP', 'move_position': [4, 1, 5], 'id': 5002, 'class': 'hero'}\n",
      "{'action_type': 'TOP', 'move_position': [4, 1, 6], 'id': 5002, 'class': 'hero'}\n",
      "{'action_type': 'TOP', 'move_position': [4, 1, 7], 'id': 5002, 'class': 'hero'}\n",
      "{'action_type': 'LEFT', 'move_position': [3, 1, 7], 'id': 5002, 'class': 'hero'}\n",
      "{'action_type': 'TOP', 'move_position': [6, 1, 5], 'id': 18714666, 'class': 'monster'}\n",
      "{'action_type': 'TOP', 'move_position': [6, 1, 6], 'id': 18714666, 'class': 'monster'}\n",
      "{'action_type': 'TOP', 'move_position': [6, 1, 7], 'id': 18714666, 'class': 'monster'}\n",
      "{'action_type': 'SKILL_86', 'atk_range': [[3, 1, 7]], 'atk_position': [3, 1, 7], 'release_range': [[3, 1, 7], [4, 1, 6], [4, 1, 8], [5, 1, 5], [5, 1, 9], [6, 1, 4], [6, 1, 10], [7, 1, 5], [7, 1, 9], [8, 1, 6], [8, 1, 8], [9, 1, 7]], 'damage': [[['hero', 5002], [114.1], [114.1], ['EQU']]], 'id': 18714666, 'class': 'monster'}\n",
      "{'action_type': 'TOP', 'move_position': [6, 1, 8], 'id': 18714666, 'class': 'monster'}\n",
      "{'action_type': 'LEFT', 'move_position': [5, 1, 8], 'id': 18714666, 'class': 'monster'}\n",
      "{'action_type': 'SKILL_86', 'atk_range': [[3, 1, 7]], 'atk_position': [3, 1, 7], 'release_range': [[3, 1, 7], [3, 1, 9], [4, 1, 6], [4, 1, 10], [5, 1, 5], [5, 1, 11], [6, 1, 6], [6, 1, 10], [7, 1, 7], [7, 1, 9], [8, 1, 8]], 'damage': [[['hero', 5002], [114.1], [114.1], ['EQU']]], 'id': 18714666, 'class': 'monster'}\n",
      "{'action_type': 'BOTTOM', 'move_position': [3, 1, 6], 'id': 5002, 'class': 'hero'}\n",
      "{'action_type': 'BOTTOM', 'move_position': [3, 1, 5], 'id': 5002, 'class': 'hero'}\n",
      "{'action_type': 'BOTTOM', 'move_position': [3, 1, 4], 'id': 5002, 'class': 'hero'}\n",
      "{'action_type': 'BOTTOM', 'move_position': [3, 1, 3], 'id': 5002, 'class': 'hero'}\n",
      "{'action_type': 'BOTTOM', 'move_position': [3, 1, 2], 'id': 5002, 'class': 'hero'}\n",
      "{'action_type': 'WAIT', 'id': 18714666, 'class': 'monster'}\n",
      "{'action_type': 'WAIT', 'id': 18714666, 'class': 'monster'}\n",
      "{'action_type': 'RIGHT', 'move_position': [4, 1, 2], 'id': 5002, 'class': 'hero'}\n",
      "{'action_type': 'RIGHT', 'move_position': [5, 1, 2], 'id': 5002, 'class': 'hero'}\n",
      "{'action_type': 'RIGHT', 'move_position': [6, 1, 2], 'id': 5002, 'class': 'hero'}\n",
      "{'action_type': 'RIGHT', 'move_position': [7, 1, 2], 'id': 5002, 'class': 'hero'}\n",
      "{'action_type': 'RIGHT', 'move_position': [8, 1, 2], 'id': 5002, 'class': 'hero'}\n",
      "{'action_type': 'WAIT', 'id': 18714666, 'class': 'monster'}\n",
      "{'action_type': 'RIGHT', 'move_position': [9, 1, 2], 'id': 5002, 'class': 'hero'}\n",
      "{'action_type': 'RIGHT', 'move_position': [10, 1, 2], 'id': 5002, 'class': 'hero'}\n",
      "{'action_type': 'RIGHT', 'move_position': [11, 1, 2], 'id': 5002, 'class': 'hero'}\n",
      "{'action_type': 'RIGHT', 'move_position': [12, 1, 2], 'id': 5002, 'class': 'hero'}\n",
      "{'action_type': 'RIGHT', 'move_position': [13, 1, 2], 'id': 5002, 'class': 'hero'}\n",
      "{'action_type': 'WAIT', 'id': 18714666, 'class': 'monster'}\n",
      "{'action_type': 'WAIT', 'id': 18714666, 'class': 'monster'}\n",
      "{'action_type': 'TOP', 'move_position': [13, 1, 3], 'id': 5002, 'class': 'hero'}\n",
      "{'action_type': 'RIGHT', 'move_position': [14, 1, 3], 'id': 5002, 'class': 'hero'}\n",
      "{'action_type': 'RIGHT', 'move_position': [15, 1, 3], 'id': 5002, 'class': 'hero'}\n",
      "{'action_type': 'RIGHT', 'move_position': [16, 1, 3], 'id': 5002, 'class': 'hero'}\n",
      "{'action_type': 'BOTTOM', 'move_position': [16, 1, 2], 'id': 5002, 'class': 'hero'}\n",
      "{'action_type': 'WAIT', 'id': 18714666, 'class': 'monster'}\n",
      "{'action_type': 'WAIT', 'id': 18714666, 'class': 'monster'}\n",
      "{'action_type': 'TOP', 'move_position': [16, 1, 3], 'id': 5002, 'class': 'hero'}\n",
      "{'action_type': 'RIGHT', 'move_position': [17, 1, 3], 'id': 5002, 'class': 'hero'}\n",
      "{'action_type': 'RIGHT', 'move_position': [18, 1, 3], 'id': 5002, 'class': 'hero'}\n"
     ]
    }
   ],
   "source": [
    "def parse_result_json_detail(log_path):\n",
    "    res = json.load(open(log_path, \"r\"))['update']\n",
    "    # 去除掉init_state部分\n",
    "    static = {}\n",
    "    for r in res:\n",
    "        actions,states,tick=r['action'],r['state'],r['tick']\n",
    "        for action in actions:\n",
    "            print(action)\n",
    "log_files_path = os.getcwd() + \"/test_data\"\n",
    "    # 读取这个路径下所有文件\n",
    "log_path = log_files_path + \"/for_qiangye_skill_\"+str(95)+\".json\"\n",
    "parse_result_json_detail(log_path)"
   ],
   "metadata": {
    "collapsed": false,
    "pycharm": {
     "name": "#%%\n"
    }
   }
  },
  {
   "cell_type": "code",
   "execution_count": null,
   "outputs": [],
   "source": [],
   "metadata": {
    "collapsed": false,
    "pycharm": {
     "name": "#%%\n"
    }
   }
  }
 ],
 "metadata": {
  "kernelspec": {
   "display_name": "Python 3",
   "language": "python",
   "name": "python3"
  },
  "language_info": {
   "codemirror_mode": {
    "name": "ipython",
    "version": 2
   },
   "file_extension": ".py",
   "mimetype": "text/x-python",
   "name": "python",
   "nbconvert_exporter": "python",
   "pygments_lexer": "ipython2",
   "version": "2.7.6"
  }
 },
 "nbformat": 4,
 "nbformat_minor": 0
}