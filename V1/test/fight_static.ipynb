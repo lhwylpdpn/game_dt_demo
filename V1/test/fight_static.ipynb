{
 "cells": [
  {
   "cell_type": "code",
   "execution_count": 320,
   "metadata": {
    "pycharm": {
     "name": "#%%\n"
    }
   },
   "outputs": [],
   "source": [
    "#解析生成json的内容\n",
    "#解析决策过程的日志\n",
    "import os\n",
    "import json\n",
    "import pandas as pd\n",
    "\n",
    "pd.set_option('display.max_rows', None)\n",
    "pd.set_option('display.max_columns', None)\n",
    "pd.set_option('display.width', None)\n",
    "pd.set_option('display.max_colwidth', None)\n",
    "\n",
    "def paese_result_json(log_path):\n",
    "    #读取json文件\n",
    "    res=json.load(open(log_path,\"r\"))['update']\n",
    "    #去除掉init_state部分\n",
    "    static={}\n",
    "    \n",
    "    for r in res:\n",
    "        actions,states,tick=r['action'],r['state'],r['tick']\n",
    "        \n",
    "        for action in actions:\n",
    "            if str(action['class']) + '_' + str(action['id']) not in static:\n",
    "                static[str(action['class']) + '_' + str(action['id'])]={}\n",
    "            static[str(action['class']) + '_' + str(action['id'])][action['action_type']]=static[str(action['class']) + '_' + str(action['id'])][action['action_type']]+1 if action['action_type'] in static[str(action['class']) + '_' + str(action['id'])] else 1\n",
    "            if 'damage' not in static[str(action['class']) + '_' + str(action['id'])]:\n",
    "                static[str(action['class']) + '_' + str(action['id'])]['damage']=[]\n",
    "            if 'damage' in action:\n",
    "                for damage in action['damage']:\n",
    "                    static[str(action['class']) + '_' + str(action['id'])]['damage'].append(damage[1][0])\n",
    "                    \n",
    "                    \n",
    "        for state in states:\n",
    "            if len(state)>0:\n",
    "                for change in state:\n",
    "                    if change[1][2]==\"Hp\":\n",
    "                        #pass\n",
    "                        if str(change[1][0]) + '_' + str(change[1][1]) not in static:\n",
    "                            static[str(change[1][0]) + '_' + str(change[1][1])]={}\n",
    "                        \n",
    "                        if '最终HP' not in static[str(change[1][0]) + '_' + str(change[1][1])]:\n",
    "                            static[str(change[1][0]) + '_' + str(change[1][1])]['最终HP']=''\n",
    "                        static[str(change[1][0]) + '_' + str(change[1][1])]['最终HP']=change[2][1]\n",
    "            \n",
    "    for k in static.keys():\n",
    "        static[k]['总伤害']=sum(static[k]['damage'])\n",
    "        static[k]['总伤害次数']=len(static[k]['damage'])\n",
    "        static[k]['平均伤害']=sum(static[k]['damage'])/len(static[k]['damage']) if len(static[k]['damage'])>0 else 0\n",
    "        if 'RIGHT' not in static[k]:\n",
    "            static[k]['RIGHT']=0\n",
    "        if 'LEFT' not in static[k]:\n",
    "            static[k]['LEFT']=0\n",
    "        if 'TOP' not in static[k]:\n",
    "            static[k]['TOP']=0\n",
    "        if 'BOTTOM' not in static[k]:\n",
    "            static[k]['BOTTOM']=0\n",
    "        static[k]['总移动次数']=static[k]['RIGHT']+static[k]['LEFT']+static[k]['TOP']+static[k]['BOTTOM']\n",
    "\n",
    "\n",
    "        #隐藏具体伤害\n",
    "        #static[k].pop('damage')\n",
    "        #按照key 排序\n",
    "        static[k]=dict(sorted(static[k].items(),key=lambda x:x[0]))\n",
    "    return static\n"
   ]
  },
  {
   "cell_type": "code",
   "execution_count": 321,
   "metadata": {
    "pycharm": {
     "name": "#%%\n"
    }
   },
   "outputs": [
    {
     "name": "stdout",
     "output_type": "stream",
     "text": [
      "for_qiangye_skill_82.json\n"
     ]
    },
    {
     "data": {
      "text/html": [
       "<div>\n",
       "<style scoped>\n",
       "    .dataframe tbody tr th:only-of-type {\n",
       "        vertical-align: middle;\n",
       "    }\n",
       "\n",
       "    .dataframe tbody tr th {\n",
       "        vertical-align: top;\n",
       "    }\n",
       "\n",
       "    .dataframe thead th {\n",
       "        text-align: right;\n",
       "    }\n",
       "</style>\n",
       "<table border=\"1\" class=\"dataframe\">\n",
       "  <thead>\n",
       "    <tr style=\"text-align: right;\">\n",
       "      <th></th>\n",
       "      <th>BOTTOM</th>\n",
       "      <th>LEFT</th>\n",
       "      <th>RIGHT</th>\n",
       "      <th>SKILL_77</th>\n",
       "      <th>TOP</th>\n",
       "      <th>WAIT</th>\n",
       "      <th>damage</th>\n",
       "      <th>平均伤害</th>\n",
       "      <th>总伤害</th>\n",
       "      <th>总伤害次数</th>\n",
       "      <th>总移动次数</th>\n",
       "      <th>最终HP</th>\n",
       "    </tr>\n",
       "  </thead>\n",
       "  <tbody>\n",
       "    <tr>\n",
       "      <th>monster_18714666</th>\n",
       "      <td>3</td>\n",
       "      <td>2</td>\n",
       "      <td>2</td>\n",
       "      <td>3</td>\n",
       "      <td>2</td>\n",
       "      <td>9</td>\n",
       "      <td>[100.0, 100.0, 100.0]</td>\n",
       "      <td>100.0</td>\n",
       "      <td>300.0</td>\n",
       "      <td>3</td>\n",
       "      <td>9</td>\n",
       "      <td>300.0</td>\n",
       "    </tr>\n",
       "    <tr>\n",
       "      <th>hero_5002</th>\n",
       "      <td>1</td>\n",
       "      <td>0</td>\n",
       "      <td>15</td>\n",
       "      <td>NaN</td>\n",
       "      <td>16</td>\n",
       "      <td>1</td>\n",
       "      <td>[]</td>\n",
       "      <td>0</td>\n",
       "      <td>0</td>\n",
       "      <td>0</td>\n",
       "      <td>32</td>\n",
       "      <td>119.0</td>\n",
       "    </tr>\n",
       "  </tbody>\n",
       "</table>\n",
       "</div>"
      ],
      "text/plain": [
       "                 BOTTOM LEFT RIGHT SKILL_77 TOP WAIT                 damage  \\\n",
       "monster_18714666      3    2     2        3   2    9  [100.0, 100.0, 100.0]   \n",
       "hero_5002             1    0    15      NaN  16    1                     []   \n",
       "\n",
       "                   平均伤害    总伤害 总伤害次数 总移动次数   最终HP  \n",
       "monster_18714666  100.0  300.0     3     9  300.0  \n",
       "hero_5002             0      0     0    32  119.0  "
      ]
     },
     "metadata": {},
     "output_type": "display_data"
    },
    {
     "name": "stdout",
     "output_type": "stream",
     "text": [
      "for_qiangye_skill_81.json\n"
     ]
    },
    {
     "data": {
      "text/html": [
       "<div>\n",
       "<style scoped>\n",
       "    .dataframe tbody tr th:only-of-type {\n",
       "        vertical-align: middle;\n",
       "    }\n",
       "\n",
       "    .dataframe tbody tr th {\n",
       "        vertical-align: top;\n",
       "    }\n",
       "\n",
       "    .dataframe thead th {\n",
       "        text-align: right;\n",
       "    }\n",
       "</style>\n",
       "<table border=\"1\" class=\"dataframe\">\n",
       "  <thead>\n",
       "    <tr style=\"text-align: right;\">\n",
       "      <th></th>\n",
       "      <th>BOTTOM</th>\n",
       "      <th>LEFT</th>\n",
       "      <th>RIGHT</th>\n",
       "      <th>SKILL_77</th>\n",
       "      <th>TOP</th>\n",
       "      <th>WAIT</th>\n",
       "      <th>damage</th>\n",
       "      <th>平均伤害</th>\n",
       "      <th>总伤害</th>\n",
       "      <th>总伤害次数</th>\n",
       "      <th>总移动次数</th>\n",
       "      <th>最终HP</th>\n",
       "    </tr>\n",
       "  </thead>\n",
       "  <tbody>\n",
       "    <tr>\n",
       "      <th>monster_18714666</th>\n",
       "      <td>3</td>\n",
       "      <td>2</td>\n",
       "      <td>2</td>\n",
       "      <td>3</td>\n",
       "      <td>2</td>\n",
       "      <td>9</td>\n",
       "      <td>[113.25, 113.25, 127.0]</td>\n",
       "      <td>117.833333</td>\n",
       "      <td>353.5</td>\n",
       "      <td>3</td>\n",
       "      <td>9</td>\n",
       "      <td>NaN</td>\n",
       "    </tr>\n",
       "    <tr>\n",
       "      <th>hero_5002</th>\n",
       "      <td>1</td>\n",
       "      <td>0</td>\n",
       "      <td>15</td>\n",
       "      <td>NaN</td>\n",
       "      <td>16</td>\n",
       "      <td>1</td>\n",
       "      <td>[]</td>\n",
       "      <td>0</td>\n",
       "      <td>0</td>\n",
       "      <td>0</td>\n",
       "      <td>32</td>\n",
       "      <td>146.5</td>\n",
       "    </tr>\n",
       "  </tbody>\n",
       "</table>\n",
       "</div>"
      ],
      "text/plain": [
       "                 BOTTOM LEFT RIGHT SKILL_77 TOP WAIT                   damage  \\\n",
       "monster_18714666      3    2     2        3   2    9  [113.25, 113.25, 127.0]   \n",
       "hero_5002             1    0    15      NaN  16    1                       []   \n",
       "\n",
       "                        平均伤害    总伤害 总伤害次数 总移动次数   最终HP  \n",
       "monster_18714666  117.833333  353.5     3     9    NaN  \n",
       "hero_5002                  0      0     0    32  146.5  "
      ]
     },
     "metadata": {},
     "output_type": "display_data"
    },
    {
     "name": "stdout",
     "output_type": "stream",
     "text": [
      "for_qiangye_skill_79.json\n"
     ]
    },
    {
     "data": {
      "text/html": [
       "<div>\n",
       "<style scoped>\n",
       "    .dataframe tbody tr th:only-of-type {\n",
       "        vertical-align: middle;\n",
       "    }\n",
       "\n",
       "    .dataframe tbody tr th {\n",
       "        vertical-align: top;\n",
       "    }\n",
       "\n",
       "    .dataframe thead th {\n",
       "        text-align: right;\n",
       "    }\n",
       "</style>\n",
       "<table border=\"1\" class=\"dataframe\">\n",
       "  <thead>\n",
       "    <tr style=\"text-align: right;\">\n",
       "      <th></th>\n",
       "      <th>BOTTOM</th>\n",
       "      <th>LEFT</th>\n",
       "      <th>RIGHT</th>\n",
       "      <th>SKILL_77</th>\n",
       "      <th>TOP</th>\n",
       "      <th>WAIT</th>\n",
       "      <th>damage</th>\n",
       "      <th>平均伤害</th>\n",
       "      <th>总伤害</th>\n",
       "      <th>总伤害次数</th>\n",
       "      <th>总移动次数</th>\n",
       "      <th>最终HP</th>\n",
       "    </tr>\n",
       "  </thead>\n",
       "  <tbody>\n",
       "    <tr>\n",
       "      <th>monster_18714666</th>\n",
       "      <td>3</td>\n",
       "      <td>2</td>\n",
       "      <td>2</td>\n",
       "      <td>3</td>\n",
       "      <td>2</td>\n",
       "      <td>9</td>\n",
       "      <td>[127.0, 127.0, 127.0]</td>\n",
       "      <td>127.0</td>\n",
       "      <td>381.0</td>\n",
       "      <td>3</td>\n",
       "      <td>9</td>\n",
       "      <td>NaN</td>\n",
       "    </tr>\n",
       "    <tr>\n",
       "      <th>hero_5002</th>\n",
       "      <td>1</td>\n",
       "      <td>0</td>\n",
       "      <td>15</td>\n",
       "      <td>NaN</td>\n",
       "      <td>16</td>\n",
       "      <td>1</td>\n",
       "      <td>[]</td>\n",
       "      <td>0</td>\n",
       "      <td>0</td>\n",
       "      <td>0</td>\n",
       "      <td>32</td>\n",
       "      <td>119.0</td>\n",
       "    </tr>\n",
       "  </tbody>\n",
       "</table>\n",
       "</div>"
      ],
      "text/plain": [
       "                 BOTTOM LEFT RIGHT SKILL_77 TOP WAIT                 damage  \\\n",
       "monster_18714666      3    2     2        3   2    9  [127.0, 127.0, 127.0]   \n",
       "hero_5002             1    0    15      NaN  16    1                     []   \n",
       "\n",
       "                   平均伤害    总伤害 总伤害次数 总移动次数   最终HP  \n",
       "monster_18714666  127.0  381.0     3     9    NaN  \n",
       "hero_5002             0      0     0    32  119.0  "
      ]
     },
     "metadata": {},
     "output_type": "display_data"
    }
   ],
   "source": [
    "log_files_path = os.getcwd()+\"/test_data\"\n",
    "    #读取这个路径下所有文件\n",
    "log_files = os.listdir(log_files_path)\n",
    "for log_file in log_files:\n",
    "    if log_file.endswith(\".json\"):\n",
    "        log_path = log_files_path+\"/\"+log_file\n",
    "        static_res_json=paese_result_json(log_path)\n",
    "        df=pd.DataFrame(static_res_json).T\n",
    "\n",
    "        print(log_file)\n",
    "        display(df)"
   ]
  },
  {
   "cell_type": "code",
   "execution_count": 322,
   "metadata": {
    "pycharm": {
     "name": "#%%\n"
    },
    "scrolled": false
   },
   "outputs": [
    {
     "name": "stdout",
     "output_type": "stream",
     "text": [
      "{'action_type': 'TOP', 'move_position': [5, 1, 4], 'id': 18714666, 'class': 'monster'} [['change', ['map', 0, 32, 'Block'], [2, 1]], ['change', ['map', 0, 33, 'Block'], [1, 2]], ['change', ['monster', 18714666, 'position', 2], [3, 4]]]\n",
      "{'action_type': 'LEFT', 'move_position': [4, 1, 4], 'id': 18714666, 'class': 'monster'} [['change', ['map', 0, 16, 'Block'], [1, 2]], ['change', ['map', 0, 33, 'Block'], [2, 1]], ['change', ['monster', 18714666, 'position', 0], [5, 4]]]\n",
      "{'action_type': 'SKILL_77', 'atk_range': [[4, 1, 3]], 'atk_position': [4, 1, 3], 'release_range': [[3, 1, 4], [4, 1, 3], [4, 1, 5], [5, 1, 4], [4, 1, 4]], 'damage': [[['hero', 5002], [100.0], [100.0], ['Equal']]], 'id': 18714666, 'class': 'monster'} [['change', ['hero', 5002, 'Hp'], [500, 373.0]], ['change', ['monster', 18714666, 'Hp'], [600, 500.0]]]\n",
      "{'action_type': 'WAIT', 'id': 5002, 'class': 'hero'} []\n",
      "{'action_type': 'RIGHT', 'move_position': [5, 1, 4], 'id': 18714666, 'class': 'monster'} [['change', ['map', 0, 16, 'Block'], [2, 1]], ['change', ['map', 0, 33, 'Block'], [1, 2]], ['change', ['monster', 18714666, 'position', 0], [4, 5]]]\n",
      "{'action_type': 'BOTTOM', 'move_position': [5, 1, 3], 'id': 18714666, 'class': 'monster'} [['change', ['map', 0, 32, 'Block'], [1, 2]], ['change', ['map', 0, 33, 'Block'], [2, 1]], ['change', ['monster', 18714666, 'position', 2], [4, 3]]]\n",
      "{'action_type': 'SKILL_77', 'atk_range': [[4, 1, 3]], 'atk_position': [4, 1, 3], 'release_range': [[4, 1, 3], [5, 1, 2], [5, 1, 4], [6, 1, 3], [5, 1, 3]], 'damage': [[['hero', 5002], [100.0], [100.0], ['Equal']]], 'id': 18714666, 'class': 'monster'} [['change', ['hero', 5002, 'Hp'], [373.0, 246.0]], ['change', ['monster', 18714666, 'Hp'], [500.0, 400.0]]]\n",
      "{'action_type': 'TOP', 'move_position': [5, 1, 4], 'id': 18714666, 'class': 'monster'} [['change', ['map', 0, 32, 'Block'], [2, 1]], ['change', ['map', 0, 33, 'Block'], [1, 2]], ['change', ['monster', 18714666, 'position', 2], [3, 4]]]\n",
      "{'action_type': 'LEFT', 'move_position': [4, 1, 4], 'id': 18714666, 'class': 'monster'} [['change', ['map', 0, 16, 'Block'], [1, 2]], ['change', ['map', 0, 33, 'Block'], [2, 1]], ['change', ['monster', 18714666, 'position', 0], [5, 4]]]\n",
      "{'action_type': 'SKILL_77', 'atk_range': [[4, 1, 3]], 'atk_position': [4, 1, 3], 'release_range': [[3, 1, 4], [4, 1, 3], [4, 1, 5], [5, 1, 4], [4, 1, 4]], 'damage': [[['hero', 5002], [100.0], [100.0], ['Equal']]], 'id': 18714666, 'class': 'monster'} [['change', ['hero', 5002, 'Hp'], [246.0, 119.0]], ['change', ['monster', 18714666, 'Hp'], [400.0, 300.0]]]\n",
      "{'action_type': 'RIGHT', 'move_position': [5, 1, 3], 'id': 5002, 'class': 'hero'} [['change', ['map', 0, 15, 'Block'], [2, 1]], ['change', ['map', 0, 32, 'Block'], [1, 2]], ['change', ['hero', 5002, 'position', 0], [4, 5]]]\n",
      "{'action_type': 'RIGHT', 'move_position': [6, 1, 3], 'id': 5002, 'class': 'hero'} [['change', ['map', 0, 32, 'Block'], [2, 1]], ['change', ['map', 0, 49, 'Block'], [1, 2]], ['change', ['hero', 5002, 'position', 0], [5, 6]]]\n",
      "{'action_type': 'RIGHT', 'move_position': [7, 1, 3], 'id': 5002, 'class': 'hero'} [['change', ['map', 0, 49, 'Block'], [2, 1]], ['change', ['map', 0, 65, 'Block'], [1, 2]], ['change', ['hero', 5002, 'position', 0], [6, 7]]]\n",
      "{'action_type': 'RIGHT', 'move_position': [8, 1, 3], 'id': 5002, 'class': 'hero'} [['change', ['map', 0, 65, 'Block'], [2, 1]], ['change', ['map', 0, 81, 'Block'], [1, 2]], ['change', ['hero', 5002, 'position', 0], [7, 8]]]\n",
      "{'action_type': 'BOTTOM', 'move_position': [8, 1, 2], 'id': 5002, 'class': 'hero'} [['change', ['map', 0, 80, 'Block'], [1, 2]], ['change', ['map', 0, 81, 'Block'], [2, 1]], ['change', ['hero', 5002, 'position', 2], [3, 2]]]\n",
      "{'action_type': 'BOTTOM', 'move_position': [4, 1, 3], 'id': 18714666, 'class': 'monster'} [['change', ['map', 0, 15, 'Block'], [1, 2]], ['change', ['map', 0, 16, 'Block'], [2, 1]], ['change', ['monster', 18714666, 'position', 2], [4, 3]]]\n",
      "{'action_type': 'BOTTOM', 'move_position': [4, 1, 2], 'id': 18714666, 'class': 'monster'} [['change', ['map', 0, 14, 'Block'], [1, 2]], ['change', ['map', 0, 15, 'Block'], [2, 1]], ['change', ['monster', 18714666, 'position', 2], [3, 2]]]\n",
      "{'action_type': 'RIGHT', 'move_position': [5, 1, 2], 'id': 18714666, 'class': 'monster'} [['change', ['map', 0, 14, 'Block'], [2, 1]], ['change', ['map', 0, 31, 'Block'], [1, 2]], ['change', ['monster', 18714666, 'position', 0], [4, 5]]]\n",
      "{'action_type': 'TOP', 'move_position': [8, 1, 3], 'id': 5002, 'class': 'hero'} [['change', ['map', 0, 80, 'Block'], [2, 1]], ['change', ['map', 0, 81, 'Block'], [1, 2]], ['change', ['hero', 5002, 'position', 2], [2, 3]]]\n",
      "{'action_type': 'TOP', 'move_position': [8, 1, 4], 'id': 5002, 'class': 'hero'} [['change', ['map', 0, 81, 'Block'], [2, 1]], ['change', ['map', 0, 82, 'Block'], [1, 2]], ['change', ['hero', 5002, 'position', 2], [3, 4]]]\n",
      "{'action_type': 'TOP', 'move_position': [8, 1, 5], 'id': 5002, 'class': 'hero'} [['change', ['map', 0, 82, 'Block'], [2, 1]], ['change', ['map', 0, 83, 'Block'], [1, 2]], ['change', ['hero', 5002, 'position', 2], [4, 5]]]\n",
      "{'action_type': 'TOP', 'move_position': [8, 1, 6], 'id': 5002, 'class': 'hero'} [['change', ['map', 0, 83, 'Block'], [2, 1]], ['change', ['map', 0, 84, 'Block'], [1, 2]], ['change', ['hero', 5002, 'position', 2], [5, 6]]]\n",
      "{'action_type': 'TOP', 'move_position': [8, 1, 7], 'id': 5002, 'class': 'hero'} [['change', ['map', 0, 84, 'Block'], [2, 1]], ['change', ['map', 0, 85, 'Block'], [1, 2]], ['change', ['hero', 5002, 'position', 2], [6, 7]]]\n",
      "{'action_type': 'WAIT', 'id': 18714666, 'class': 'monster'} []\n",
      "{'action_type': 'WAIT', 'id': 18714666, 'class': 'monster'} []\n",
      "{'action_type': 'TOP', 'move_position': [8, 1, 8], 'id': 5002, 'class': 'hero'} [['change', ['map', 0, 85, 'Block'], [2, 1]], ['change', ['map', 0, 86, 'Block'], [1, 2]], ['change', ['hero', 5002, 'position', 2], [7, 8]]]\n",
      "{'action_type': 'TOP', 'move_position': [8, 1, 9], 'id': 5002, 'class': 'hero'} [['change', ['map', 0, 86, 'Block'], [2, 1]], ['change', ['map', 0, 87, 'Block'], [1, 2]], ['change', ['hero', 5002, 'position', 2], [8, 9]]]\n",
      "{'action_type': 'TOP', 'move_position': [8, 1, 10], 'id': 5002, 'class': 'hero'} [['change', ['map', 0, 87, 'Block'], [2, 1]], ['change', ['map', 0, 88, 'Block'], [1, 2]], ['change', ['hero', 5002, 'position', 2], [9, 10]]]\n",
      "{'action_type': 'TOP', 'move_position': [8, 1, 11], 'id': 5002, 'class': 'hero'} [['change', ['map', 0, 88, 'Block'], [2, 1]], ['change', ['map', 0, 89, 'Block'], [1, 2]], ['change', ['hero', 5002, 'position', 2], [10, 11]]]\n",
      "{'action_type': 'TOP', 'move_position': [8, 1, 12], 'id': 5002, 'class': 'hero'} [['change', ['map', 0, 89, 'Block'], [2, 1]], ['change', ['map', 0, 90, 'Block'], [1, 2]], ['change', ['hero', 5002, 'position', 2], [11, 12]]]\n",
      "{'action_type': 'WAIT', 'id': 18714666, 'class': 'monster'} []\n",
      "{'action_type': 'WAIT', 'id': 18714666, 'class': 'monster'} []\n",
      "{'action_type': 'TOP', 'move_position': [8, 1, 13], 'id': 5002, 'class': 'hero'} [['change', ['map', 0, 90, 'Block'], [2, 1]], ['change', ['map', 0, 91, 'Block'], [1, 2]], ['change', ['hero', 5002, 'position', 2], [12, 13]]]\n",
      "{'action_type': 'TOP', 'move_position': [8, 1, 14], 'id': 5002, 'class': 'hero'} [['change', ['map', 0, 91, 'Block'], [2, 1]], ['change', ['map', 0, 92, 'Block'], [1, 2]], ['change', ['hero', 5002, 'position', 2], [13, 14]]]\n",
      "{'action_type': 'TOP', 'move_position': [8, 1, 15], 'id': 5002, 'class': 'hero'} [['change', ['map', 0, 92, 'Block'], [2, 1]], ['change', ['map', 0, 93, 'Block'], [1, 2]], ['change', ['hero', 5002, 'position', 2], [14, 15]]]\n",
      "{'action_type': 'TOP', 'move_position': [8, 1, 16], 'id': 5002, 'class': 'hero'} [['change', ['map', 0, 93, 'Block'], [2, 1]], ['change', ['map', 0, 94, 'Block'], [1, 2]], ['change', ['hero', 5002, 'position', 2], [15, 16]]]\n",
      "{'action_type': 'TOP', 'move_position': [8, 1, 17], 'id': 5002, 'class': 'hero'} [['change', ['map', 0, 94, 'Block'], [2, 1]], ['change', ['map', 0, 95, 'Block'], [1, 2]], ['change', ['hero', 5002, 'position', 2], [16, 17]]]\n",
      "{'action_type': 'WAIT', 'id': 18714666, 'class': 'monster'} []\n",
      "{'action_type': 'RIGHT', 'move_position': [9, 1, 17], 'id': 5002, 'class': 'hero'} [['change', ['map', 0, 95, 'Block'], [2, 1]], ['change', ['map', 0, 112, 'Block'], [1, 2]], ['change', ['hero', 5002, 'position', 0], [8, 9]]]\n",
      "{'action_type': 'RIGHT', 'move_position': [10, 1, 17], 'id': 5002, 'class': 'hero'} [['change', ['map', 0, 112, 'Block'], [2, 1]], ['change', ['map', 0, 123, 'Block'], [1, 2]], ['change', ['hero', 5002, 'position', 0], [9, 10]]]\n",
      "{'action_type': 'RIGHT', 'move_position': [11, 1, 17], 'id': 5002, 'class': 'hero'} [['change', ['map', 0, 123, 'Block'], [2, 1]], ['change', ['map', 0, 137, 'Block'], [1, 2]], ['change', ['hero', 5002, 'position', 0], [10, 11]]]\n",
      "{'action_type': 'RIGHT', 'move_position': [12, 1, 17], 'id': 5002, 'class': 'hero'} [['change', ['map', 0, 137, 'Block'], [2, 1]], ['change', ['map', 0, 155, 'Block'], [1, 2]], ['change', ['hero', 5002, 'position', 0], [11, 12]]]\n",
      "{'action_type': 'TOP', 'move_position': [12, 1, 18], 'id': 5002, 'class': 'hero'} [['change', ['map', 0, 155, 'Block'], [2, 1]], ['change', ['map', 0, 156, 'Block'], [1, 2]], ['change', ['hero', 5002, 'position', 2], [17, 18]]]\n",
      "{'action_type': 'WAIT', 'id': 18714666, 'class': 'monster'} []\n",
      "{'action_type': 'WAIT', 'id': 18714666, 'class': 'monster'} []\n",
      "{'action_type': 'RIGHT', 'move_position': [13, 1, 18], 'id': 5002, 'class': 'hero'} [['change', ['map', 0, 156, 'Block'], [2, 1]], ['change', ['map', 0, 173, 'Block'], [1, 2]], ['change', ['hero', 5002, 'position', 0], [12, 13]]]\n",
      "{'action_type': 'RIGHT', 'move_position': [14, 1, 18], 'id': 5002, 'class': 'hero'} [['change', ['map', 0, 173, 'Block'], [2, 1]], ['change', ['map', 0, 188, 'Block'], [1, 2]], ['change', ['hero', 5002, 'position', 0], [13, 14]]]\n",
      "{'action_type': 'RIGHT', 'move_position': [15, 5, 18], 'id': 5002, 'class': 'hero'} [['change', ['map', 0, 188, 'Block'], [2, 1]], ['change', ['map', 0, 207, 'Block'], [1, 2]], ['change', ['hero', 5002, 'position', 0], [14, 15]], ['change', ['hero', 5002, 'position', 1], [1, 5]]]\n",
      "{'action_type': 'RIGHT', 'move_position': [16, 5, 18], 'id': 5002, 'class': 'hero'} [['change', ['map', 0, 207, 'Block'], [2, 1]], ['change', ['map', 0, 226, 'Block'], [1, 2]], ['change', ['hero', 5002, 'position', 0], [15, 16]]]\n",
      "{'action_type': 'RIGHT', 'move_position': [17, 9, 18], 'id': 5002, 'class': 'hero'} [['change', ['map', 0, 226, 'Block'], [2, 1]], ['change', ['map', 0, 248, 'Block'], [1, 2]], ['change', ['hero', 5002, 'position', 0], [16, 17]], ['change', ['hero', 5002, 'position', 1], [5, 9]]]\n",
      "{'action_type': 'WAIT', 'id': 18714666, 'class': 'monster'} []\n",
      "{'action_type': 'WAIT', 'id': 18714666, 'class': 'monster'} []\n",
      "{'action_type': 'RIGHT', 'move_position': [18, 9, 18], 'id': 5002, 'class': 'hero'} [['change', ['map', 0, 248, 'Block'], [2, 1]], ['change', ['map', 0, 259, 'Block'], [1, 2]], ['change', ['hero', 5002, 'position', 0], [17, 18]]]\n",
      "{'action_type': 'RIGHT', 'move_position': [19, 9, 18], 'id': 5002, 'class': 'hero'} [['change', ['map', 0, 259, 'Block'], [2, 1]], ['change', ['map', 0, 263, 'Block'], [1, 2]], ['change', ['hero', 5002, 'position', 0], [18, 19]]]\n"
     ]
    }
   ],
   "source": [
    "def parse_result_json_detail(log_path):\n",
    "    res = json.load(open(log_path, \"r\"))['update']\n",
    "    # 去除掉init_state部分\n",
    "    static = {}\n",
    "    for r in res:\n",
    "        actions,states,tick=r['action'],r['state'],r['tick']\n",
    "        for i in range(len(actions)):\n",
    "            #if actions[i]['action_type']=='SKILL_104':\n",
    "                print(actions[i],states[i])\n",
    "log_files_path = os.getcwd() + \"/test_data\"\n",
    "    # 读取这个路径下所有文件\n",
    "log_path = log_files_path + \"/for_qiangye_skill_\"+str(82)+\".json\"\n",
    "parse_result_json_detail(log_path)"
   ]
  },
  {
   "cell_type": "code",
   "execution_count": 319,
   "metadata": {
    "pycharm": {
     "name": "#%%\n"
    }
   },
   "outputs": [],
   "source": [
    "def parse_decision_log(log_path):\n",
    "    res=json.load(open(log_path,\"r\"))\n",
    "    for k,v in res.items():\n",
    "        if 'stepname' in v:\n",
    "            if 'evaluate' in v['stepname'] or '决策树' in v['stepname']:\n",
    "                if v['stepname']=='evaluate执行判断':\n",
    "                   if '判断是否满足恢复判定' in v['selection'] and v['result_len']=='True':\n",
    "                        print(k,v)"
   ]
  },
  {
   "cell_type": "code",
   "execution_count": 289,
   "metadata": {
    "pycharm": {
     "name": "#%%\n"
    }
   },
   "outputs": [
    {
     "name": "stdout",
     "output_type": "stream",
     "text": [
      "2024-09-23 15:43:44.018736_24 {'stepname': 'evaluate执行判断', 'selection': '判断是否满足恢复判定_<function lambda_is_need_to_healing.<locals>.<lambda> at 0x7f80f0e25a60>', 'result_len': 'True'}\n",
      "2024-09-23 15:43:45.924549_64 {'stepname': 'evaluate执行判断', 'selection': '判断是否满足恢复判定_<function lambda_is_need_to_healing.<locals>.<lambda> at 0x7f80f0d67598>', 'result_len': 'True'}\n",
      "2024-09-23 15:43:48.346668_122 {'stepname': 'evaluate执行判断', 'selection': '判断是否满足恢复判定_<function lambda_is_need_to_healing.<locals>.<lambda> at 0x7f80f0e25b70>', 'result_len': 'True'}\n",
      "2024-09-23 15:43:50.995422_162 {'stepname': 'evaluate执行判断', 'selection': '判断是否满足恢复判定_<function lambda_is_need_to_healing.<locals>.<lambda> at 0x7f80f0d676a8>', 'result_len': 'True'}\n",
      "2024-09-23 15:43:54.225000_220 {'stepname': 'evaluate执行判断', 'selection': '判断是否满足恢复判定_<function lambda_is_need_to_healing.<locals>.<lambda> at 0x7f80a8118ae8>', 'result_len': 'True'}\n",
      "2024-09-23 15:43:57.005641_260 {'stepname': 'evaluate执行判断', 'selection': '判断是否满足恢复判定_<function lambda_is_need_to_healing.<locals>.<lambda> at 0x7f80f0d676a8>', 'result_len': 'True'}\n",
      "2024-09-23 15:44:00.660639_318 {'stepname': 'evaluate执行判断', 'selection': '判断是否满足恢复判定_<function lambda_is_need_to_healing.<locals>.<lambda> at 0x7f80f0e259d8>', 'result_len': 'True'}\n",
      "2024-09-23 15:44:03.994891_358 {'stepname': 'evaluate执行判断', 'selection': '判断是否满足恢复判定_<function lambda_is_need_to_healing.<locals>.<lambda> at 0x7f80f0d67510>', 'result_len': 'True'}\n",
      "2024-09-23 15:44:07.833178_416 {'stepname': 'evaluate执行判断', 'selection': '判断是否满足恢复判定_<function lambda_is_need_to_healing.<locals>.<lambda> at 0x7f80a8118950>', 'result_len': 'True'}\n",
      "2024-09-23 15:44:12.442448_454 {'stepname': 'evaluate执行判断', 'selection': '判断是否满足恢复判定_<function lambda_is_need_to_healing.<locals>.<lambda> at 0x7f80f0e2f510>', 'result_len': 'True'}\n",
      "2024-09-23 15:44:15.457621_494 {'stepname': 'evaluate执行判断', 'selection': '判断是否满足恢复判定_<function lambda_is_need_to_healing.<locals>.<lambda> at 0x7f80a81188c8>', 'result_len': 'True'}\n",
      "2024-09-23 15:44:19.207160_552 {'stepname': 'evaluate执行判断', 'selection': '判断是否满足恢复判定_<function lambda_is_need_to_healing.<locals>.<lambda> at 0x7f80f0e2f730>', 'result_len': 'True'}\n",
      "2024-09-23 15:44:21.957489_592 {'stepname': 'evaluate执行判断', 'selection': '判断是否满足恢复判定_<function lambda_is_need_to_healing.<locals>.<lambda> at 0x7f80f0e2f950>', 'result_len': 'True'}\n",
      "2024-09-23 15:44:27.157532_651 {'stepname': 'evaluate执行判断', 'selection': '判断是否满足恢复判定_<function lambda_is_need_to_healing.<locals>.<lambda> at 0x7f80a81188c8>', 'result_len': 'True'}\n",
      "2024-09-23 15:44:30.034009_687 {'stepname': 'evaluate执行判断', 'selection': '判断是否满足恢复判定_<function lambda_is_need_to_healing.<locals>.<lambda> at 0x7f80f0e25840>', 'result_len': 'True'}\n",
      "2024-09-23 15:44:34.119034_741 {'stepname': 'evaluate执行判断', 'selection': '判断是否满足恢复判定_<function lambda_is_need_to_healing.<locals>.<lambda> at 0x7f80f0e25a60>', 'result_len': 'True'}\n",
      "2024-09-23 15:44:37.083009_777 {'stepname': 'evaluate执行判断', 'selection': '判断是否满足恢复判定_<function lambda_is_need_to_healing.<locals>.<lambda> at 0x7f80a81189d8>', 'result_len': 'True'}\n",
      "2024-09-23 15:44:41.789046_831 {'stepname': 'evaluate执行判断', 'selection': '判断是否满足恢复判定_<function lambda_is_need_to_healing.<locals>.<lambda> at 0x7f80f0e258c8>', 'result_len': 'True'}\n",
      "2024-09-23 15:44:45.542225_867 {'stepname': 'evaluate执行判断', 'selection': '判断是否满足恢复判定_<function lambda_is_need_to_healing.<locals>.<lambda> at 0x7f80a8118bf8>', 'result_len': 'True'}\n",
      "2024-09-23 15:44:51.210691_921 {'stepname': 'evaluate执行判断', 'selection': '判断是否满足恢复判定_<function lambda_is_need_to_healing.<locals>.<lambda> at 0x7f80a8118840>', 'result_len': 'True'}\n",
      "2024-09-23 15:44:55.537178_957 {'stepname': 'evaluate执行判断', 'selection': '判断是否满足恢复判定_<function lambda_is_need_to_healing.<locals>.<lambda> at 0x7f80a8118d90>', 'result_len': 'True'}\n",
      "2024-09-23 15:45:01.968794_1011 {'stepname': 'evaluate执行判断', 'selection': '判断是否满足恢复判定_<function lambda_is_need_to_healing.<locals>.<lambda> at 0x7f80f0e2f1e0>', 'result_len': 'True'}\n"
     ]
    }
   ],
   "source": [
    "\n",
    "tmp_log_file = os.getcwd()+\"/../log/logs.json\"\n",
    "parse_decision_log(tmp_log_file)"
   ]
  },
  {
   "cell_type": "code",
   "execution_count": null,
   "metadata": {
    "pycharm": {
     "name": "#%%\n"
    }
   },
   "outputs": [],
   "source": []
  },
  {
   "cell_type": "code",
   "execution_count": null,
   "metadata": {
    "pycharm": {
     "name": "#%%\n"
    }
   },
   "outputs": [],
   "source": []
  }
 ],
 "metadata": {
  "kernelspec": {
   "display_name": "Python 3 (ipykernel)",
   "language": "python",
   "name": "python3"
  },
  "language_info": {
   "codemirror_mode": {
    "name": "ipython",
    "version": 3
   },
   "file_extension": ".py",
   "mimetype": "text/x-python",
   "name": "python",
   "nbconvert_exporter": "python",
   "pygments_lexer": "ipython3",
   "version": "3.8.18"
  }
 },
 "nbformat": 4,
 "nbformat_minor": 1
}
